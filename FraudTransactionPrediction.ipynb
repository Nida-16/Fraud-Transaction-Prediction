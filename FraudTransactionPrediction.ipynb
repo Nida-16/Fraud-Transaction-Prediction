{
 "cells": [
  {
   "cell_type": "markdown",
   "id": "d2ea7a85",
   "metadata": {},
   "source": [
    "#### Importing libraries"
   ]
  },
  {
   "cell_type": "code",
   "execution_count": 1,
   "id": "43d18aaf",
   "metadata": {},
   "outputs": [],
   "source": [
    "# !pip install imbalanced-learn\n",
    "# pip install xgboost"
   ]
  },
  {
   "cell_type": "code",
   "execution_count": 2,
   "id": "5ed278f4",
   "metadata": {},
   "outputs": [],
   "source": [
    "import pandas as pd\n",
    "import numpy as np\n",
    "import matplotlib.pyplot as plt\n",
    "%matplotlib inline\n",
    "import seaborn as sns\n",
    "from statsmodels.stats.outliers_influence import variance_inflation_factor\n",
    "from sklearn.feature_selection import chi2, SelectKBest\n",
    "from sklearn import preprocessing\n",
    "from sklearn.model_selection import train_test_split\n",
    "import xgboost\n",
    "from sklearn.linear_model import LogisticRegression\n",
    "from sklearn.tree import DecisionTreeClassifier\n",
    "from sklearn.ensemble import RandomForestClassifier\n",
    "from sklearn.neighbors import KNeighborsClassifier\n",
    "from sklearn.metrics import precision_score\n",
    "from sklearn.metrics import recall_score\n",
    "from sklearn.metrics import accuracy_score\n",
    "from sklearn.metrics import f1_score\n",
    "from sklearn.metrics import confusion_matrix\n",
    "\n",
    "from imblearn.under_sampling import RandomUnderSampler\n",
    "from imblearn.over_sampling import RandomOverSampler\n",
    "from sklearn.feature_selection import SelectKBest\n",
    "from sklearn.feature_selection import f_classif\n",
    "from sklearn.datasets import make_classification\n",
    "\n",
    "np.random.seed(1234)\n",
    "import warnings\n",
    "warnings.filterwarnings(\"ignore\")"
   ]
  },
  {
   "cell_type": "markdown",
   "id": "d9feb9fc",
   "metadata": {},
   "source": [
    "## Data Ingestion and Validation"
   ]
  },
  {
   "cell_type": "code",
   "execution_count": 3,
   "id": "78730718",
   "metadata": {},
   "outputs": [],
   "source": [
    "df = pd.read_csv('Fraud.csv')"
   ]
  },
  {
   "cell_type": "code",
   "execution_count": 4,
   "id": "048da0c0",
   "metadata": {},
   "outputs": [
    {
     "data": {
      "text/html": [
       "<div>\n",
       "<style scoped>\n",
       "    .dataframe tbody tr th:only-of-type {\n",
       "        vertical-align: middle;\n",
       "    }\n",
       "\n",
       "    .dataframe tbody tr th {\n",
       "        vertical-align: top;\n",
       "    }\n",
       "\n",
       "    .dataframe thead th {\n",
       "        text-align: right;\n",
       "    }\n",
       "</style>\n",
       "<table border=\"1\" class=\"dataframe\">\n",
       "  <thead>\n",
       "    <tr style=\"text-align: right;\">\n",
       "      <th></th>\n",
       "      <th>step</th>\n",
       "      <th>type</th>\n",
       "      <th>amount</th>\n",
       "      <th>nameOrig</th>\n",
       "      <th>oldbalanceOrg</th>\n",
       "      <th>newbalanceOrig</th>\n",
       "      <th>nameDest</th>\n",
       "      <th>oldbalanceDest</th>\n",
       "      <th>newbalanceDest</th>\n",
       "      <th>isFraud</th>\n",
       "      <th>isFlaggedFraud</th>\n",
       "    </tr>\n",
       "  </thead>\n",
       "  <tbody>\n",
       "    <tr>\n",
       "      <th>0</th>\n",
       "      <td>1</td>\n",
       "      <td>PAYMENT</td>\n",
       "      <td>9839.64</td>\n",
       "      <td>C1231006815</td>\n",
       "      <td>170136.0</td>\n",
       "      <td>160296.36</td>\n",
       "      <td>M1979787155</td>\n",
       "      <td>0.0</td>\n",
       "      <td>0.0</td>\n",
       "      <td>0</td>\n",
       "      <td>0</td>\n",
       "    </tr>\n",
       "    <tr>\n",
       "      <th>1</th>\n",
       "      <td>1</td>\n",
       "      <td>PAYMENT</td>\n",
       "      <td>1864.28</td>\n",
       "      <td>C1666544295</td>\n",
       "      <td>21249.0</td>\n",
       "      <td>19384.72</td>\n",
       "      <td>M2044282225</td>\n",
       "      <td>0.0</td>\n",
       "      <td>0.0</td>\n",
       "      <td>0</td>\n",
       "      <td>0</td>\n",
       "    </tr>\n",
       "    <tr>\n",
       "      <th>2</th>\n",
       "      <td>1</td>\n",
       "      <td>TRANSFER</td>\n",
       "      <td>181.00</td>\n",
       "      <td>C1305486145</td>\n",
       "      <td>181.0</td>\n",
       "      <td>0.00</td>\n",
       "      <td>C553264065</td>\n",
       "      <td>0.0</td>\n",
       "      <td>0.0</td>\n",
       "      <td>1</td>\n",
       "      <td>0</td>\n",
       "    </tr>\n",
       "    <tr>\n",
       "      <th>3</th>\n",
       "      <td>1</td>\n",
       "      <td>CASH_OUT</td>\n",
       "      <td>181.00</td>\n",
       "      <td>C840083671</td>\n",
       "      <td>181.0</td>\n",
       "      <td>0.00</td>\n",
       "      <td>C38997010</td>\n",
       "      <td>21182.0</td>\n",
       "      <td>0.0</td>\n",
       "      <td>1</td>\n",
       "      <td>0</td>\n",
       "    </tr>\n",
       "    <tr>\n",
       "      <th>4</th>\n",
       "      <td>1</td>\n",
       "      <td>PAYMENT</td>\n",
       "      <td>11668.14</td>\n",
       "      <td>C2048537720</td>\n",
       "      <td>41554.0</td>\n",
       "      <td>29885.86</td>\n",
       "      <td>M1230701703</td>\n",
       "      <td>0.0</td>\n",
       "      <td>0.0</td>\n",
       "      <td>0</td>\n",
       "      <td>0</td>\n",
       "    </tr>\n",
       "  </tbody>\n",
       "</table>\n",
       "</div>"
      ],
      "text/plain": [
       "   step      type    amount     nameOrig  oldbalanceOrg  newbalanceOrig  \\\n",
       "0     1   PAYMENT   9839.64  C1231006815       170136.0       160296.36   \n",
       "1     1   PAYMENT   1864.28  C1666544295        21249.0        19384.72   \n",
       "2     1  TRANSFER    181.00  C1305486145          181.0            0.00   \n",
       "3     1  CASH_OUT    181.00   C840083671          181.0            0.00   \n",
       "4     1   PAYMENT  11668.14  C2048537720        41554.0        29885.86   \n",
       "\n",
       "      nameDest  oldbalanceDest  newbalanceDest  isFraud  isFlaggedFraud  \n",
       "0  M1979787155             0.0             0.0        0               0  \n",
       "1  M2044282225             0.0             0.0        0               0  \n",
       "2   C553264065             0.0             0.0        1               0  \n",
       "3    C38997010         21182.0             0.0        1               0  \n",
       "4  M1230701703             0.0             0.0        0               0  "
      ]
     },
     "execution_count": 4,
     "metadata": {},
     "output_type": "execute_result"
    }
   ],
   "source": [
    "df.head()"
   ]
  },
  {
   "cell_type": "code",
   "execution_count": 5,
   "id": "29d29d64",
   "metadata": {},
   "outputs": [
    {
     "data": {
      "text/plain": [
       "(6362620, 11)"
      ]
     },
     "execution_count": 5,
     "metadata": {},
     "output_type": "execute_result"
    }
   ],
   "source": [
    "df.shape"
   ]
  },
  {
   "cell_type": "code",
   "execution_count": 6,
   "id": "9d2be5a2",
   "metadata": {},
   "outputs": [
    {
     "data": {
      "text/plain": [
       "step                int64\n",
       "type               object\n",
       "amount            float64\n",
       "nameOrig           object\n",
       "oldbalanceOrg     float64\n",
       "newbalanceOrig    float64\n",
       "nameDest           object\n",
       "oldbalanceDest    float64\n",
       "newbalanceDest    float64\n",
       "isFraud             int64\n",
       "isFlaggedFraud      int64\n",
       "dtype: object"
      ]
     },
     "execution_count": 6,
     "metadata": {},
     "output_type": "execute_result"
    }
   ],
   "source": [
    "df.dtypes"
   ]
  },
  {
   "cell_type": "code",
   "execution_count": 7,
   "id": "d21514d8",
   "metadata": {},
   "outputs": [
    {
     "name": "stdout",
     "output_type": "stream",
     "text": [
      "------------------------->> Values for each categorical feature & their value counts <<------------------------- \n",
      "CASH_OUT    2237500\n",
      "PAYMENT     2151495\n",
      "CASH_IN     1399284\n",
      "TRANSFER     532909\n",
      "DEBIT         41432\n",
      "Name: type, dtype: int64\n",
      "----------------------------\n",
      "0    6354407\n",
      "1       8213\n",
      "Name: isFraud, dtype: int64\n",
      "----------------------------\n",
      "0    6362604\n",
      "1         16\n",
      "Name: isFlaggedFraud, dtype: int64\n",
      "----------------------------\n"
     ]
    }
   ],
   "source": [
    "temp_columns = ['type','isFraud','isFlaggedFraud']\n",
    "print(\"------------------------->> Values for each categorical feature & their value counts <<------------------------- \")\n",
    "for i in temp_columns:\n",
    "    print(df[i].value_counts())\n",
    "    print(\"----------------------------\")"
   ]
  },
  {
   "cell_type": "code",
   "execution_count": 8,
   "id": "849ba211",
   "metadata": {},
   "outputs": [
    {
     "data": {
      "text/plain": [
       "0"
      ]
     },
     "execution_count": 8,
     "metadata": {},
     "output_type": "execute_result"
    }
   ],
   "source": [
    "df.isnull().sum().sum()"
   ]
  },
  {
   "cell_type": "code",
   "execution_count": 9,
   "id": "73ee7894",
   "metadata": {},
   "outputs": [
    {
     "data": {
      "text/plain": [
       "0"
      ]
     },
     "execution_count": 9,
     "metadata": {},
     "output_type": "execute_result"
    }
   ],
   "source": [
    "df.duplicated().sum()"
   ]
  },
  {
   "cell_type": "code",
   "execution_count": 10,
   "id": "cbd95d7a",
   "metadata": {},
   "outputs": [],
   "source": [
    "# Hence we can conclude that data does not have any missing or duplicate values "
   ]
  },
  {
   "cell_type": "markdown",
   "id": "a77a4f63",
   "metadata": {},
   "source": [
    "#### Studying insights obtained from the data :"
   ]
  },
  {
   "cell_type": "code",
   "execution_count": 11,
   "id": "4fda640c",
   "metadata": {},
   "outputs": [
    {
     "name": "stdout",
     "output_type": "stream",
     "text": [
      "16\n"
     ]
    }
   ],
   "source": [
    "count=0\n",
    "for i, j in zip(df['isFraud'],df['isFlaggedFraud']):\n",
    "    if(i==1 and j==1):\n",
    "        count+=1\n",
    "print(count)\n",
    "\n",
    "# this indicates that is isFlaggedFraud is a very strong indicator of fraud transactions"
   ]
  },
  {
   "cell_type": "code",
   "execution_count": 12,
   "id": "b90e8744",
   "metadata": {},
   "outputs": [
    {
     "data": {
      "text/plain": [
       "0    0.998709\n",
       "1    0.001291\n",
       "Name: isFraud, dtype: float64"
      ]
     },
     "execution_count": 12,
     "metadata": {},
     "output_type": "execute_result"
    }
   ],
   "source": [
    "df[\"isFraud\"].value_counts(normalize=True)\n",
    "# 99 % of the data is not fraud-transactions\n",
    "# this indicates that the data is highly imbalanced"
   ]
  },
  {
   "cell_type": "code",
   "execution_count": 13,
   "id": "f9597d71",
   "metadata": {},
   "outputs": [
    {
     "name": "stdout",
     "output_type": "stream",
     "text": [
      "{'CASH_OUT', 'TRANSFER'}\n"
     ]
    }
   ],
   "source": [
    "type_of_fraud_transaction = []\n",
    "for i, j in zip(df['type'],df['isFraud']):\n",
    "    if(j==1):\n",
    "        type_of_fraud_transaction.append(i)\n",
    "type_of_fraud_transaction = set(type_of_fraud_transaction)\n",
    "\n",
    "print(type_of_fraud_transaction) \n",
    "\n",
    "# this indicates that only cashout and transfer transactions can be fraud transactions"
   ]
  },
  {
   "cell_type": "code",
   "execution_count": 14,
   "id": "ab9c086a",
   "metadata": {},
   "outputs": [
    {
     "name": "stdout",
     "output_type": "stream",
     "text": [
      "8169\n"
     ]
    }
   ],
   "source": [
    "fraud_acc = []\n",
    "for i, j in zip(df['nameDest'],df['isFraud']):\n",
    "    if(j==1):\n",
    "        fraud_acc.append(i)\n",
    "fraud_acc = set(fraud_acc)\n",
    "print(len(fraud_acc))\n",
    "\n",
    "# This indicates that fraudsters have commited a fraud more than once using the same account.\n",
    "# as total fraud transactions = 8213 & total fraud accounts = 8169"
   ]
  },
  {
   "cell_type": "code",
   "execution_count": 15,
   "id": "cb79f53f",
   "metadata": {},
   "outputs": [
    {
     "name": "stdout",
     "output_type": "stream",
     "text": [
      "57435\n"
     ]
    }
   ],
   "source": [
    "count = 0\n",
    "for i, j in zip(df['nameDest'],df['isFraud']):\n",
    "    if((i in fraud_acc) and j==0):\n",
    "        count+=1\n",
    "print(count)\n",
    "# Fraudulent accounts have also commited non fraud transactions : \n",
    "# Hence we can't identify a fraud transaction even if the recipient account is included in the fraud_acc list"
   ]
  },
  {
   "cell_type": "markdown",
   "id": "e5be4a9d",
   "metadata": {},
   "source": [
    "#### Outlier detection"
   ]
  },
  {
   "cell_type": "code",
   "execution_count": 16,
   "id": "5ad51d23",
   "metadata": {},
   "outputs": [
    {
     "data": {
      "text/plain": [
       "<AxesSubplot:>"
      ]
     },
     "execution_count": 16,
     "metadata": {},
     "output_type": "execute_result"
    },
    {
     "data": {
      "image/png": "[encoded data removed]",
      "text/plain": [
       "<Figure size 432x288 with 1 Axes>"
      ]
     },
     "metadata": {
      "needs_background": "light"
     },
     "output_type": "display_data"
    }
   ],
   "source": [
    "df.boxplot(return_type='axes',column = ['amount', 'oldbalanceOrg', 'newbalanceOrig','oldbalanceDest','newbalanceDest'])"
   ]
  },
  {
   "cell_type": "code",
   "execution_count": 17,
   "id": "730ae5d2",
   "metadata": {},
   "outputs": [],
   "source": [
    "# Method 1 of detecting outliers in a passed column of a dataframe\n",
    "def outlier_count_1(data):\n",
    "    outliers = []\n",
    "    count = 0\n",
    "    threshold = 3  #values farer from 3rd S.D. will be considered outliers\n",
    "    mean = np.mean(data)\n",
    "    std = np.std(data)\n",
    "    \n",
    "    for i in data:\n",
    "        z_score = (i-mean)/std\n",
    "        if np.abs(z_score)>threshold:\n",
    "            outliers.append(i)\n",
    "            count+=1\n",
    "    print(count)\n",
    "\n",
    "# Method 2\n",
    "# only values below lower threshold and above upper threshold will be considered outliers\n",
    "def outlier_count_2(data):\n",
    "    lower_outliers = []\n",
    "    upper_outliers = []\n",
    "    count = 0\n",
    "    q1,q3 = np.percentile(data,[25,75])\n",
    "    iqr = q3-q1\n",
    "    lower_fence = q1-iqr*1.5\n",
    "    upper_fence = q3+iqr*1.5\n",
    "    \n",
    "    for i in data:\n",
    "        if(i<lower_fence):\n",
    "            lower_outliers.append(i)\n",
    "            count+=1\n",
    "        elif(i>upper_fence):\n",
    "            upper_outliers.append(i)\n",
    "            count+=1\n",
    "    print(count)"
   ]
  },
  {
   "cell_type": "code",
   "execution_count": 18,
   "id": "f0e16a13",
   "metadata": {},
   "outputs": [
    {
     "name": "stdout",
     "output_type": "stream",
     "text": [
      "44945\n"
     ]
    }
   ],
   "source": [
    "# create a function to get all outliers for int/float columns\n",
    "outlier_count_1(df['amount'])"
   ]
  },
  {
   "cell_type": "code",
   "execution_count": 19,
   "id": "e13f9f07",
   "metadata": {},
   "outputs": [
    {
     "name": "stdout",
     "output_type": "stream",
     "text": [
      "338078\n"
     ]
    }
   ],
   "source": [
    "outlier_count_2(df['amount'])"
   ]
  },
  {
   "cell_type": "markdown",
   "id": "daab5639",
   "metadata": {},
   "source": [
    "#### Checking for multi-collinearity"
   ]
  },
  {
   "cell_type": "code",
   "execution_count": 20,
   "id": "485d28b2",
   "metadata": {},
   "outputs": [
    {
     "data": {
      "text/html": [
       "<div>\n",
       "<style scoped>\n",
       "    .dataframe tbody tr th:only-of-type {\n",
       "        vertical-align: middle;\n",
       "    }\n",
       "\n",
       "    .dataframe tbody tr th {\n",
       "        vertical-align: top;\n",
       "    }\n",
       "\n",
       "    .dataframe thead th {\n",
       "        text-align: right;\n",
       "    }\n",
       "</style>\n",
       "<table border=\"1\" class=\"dataframe\">\n",
       "  <thead>\n",
       "    <tr style=\"text-align: right;\">\n",
       "      <th></th>\n",
       "      <th>feature</th>\n",
       "      <th>VIF</th>\n",
       "    </tr>\n",
       "  </thead>\n",
       "  <tbody>\n",
       "    <tr>\n",
       "      <th>0</th>\n",
       "      <td>step</td>\n",
       "      <td>1.188500</td>\n",
       "    </tr>\n",
       "    <tr>\n",
       "      <th>1</th>\n",
       "      <td>amount</td>\n",
       "      <td>4.013501</td>\n",
       "    </tr>\n",
       "    <tr>\n",
       "      <th>2</th>\n",
       "      <td>oldbalanceOrg</td>\n",
       "      <td>465.124566</td>\n",
       "    </tr>\n",
       "    <tr>\n",
       "      <th>3</th>\n",
       "      <td>newbalanceOrig</td>\n",
       "      <td>466.906067</td>\n",
       "    </tr>\n",
       "    <tr>\n",
       "      <th>4</th>\n",
       "      <td>oldbalanceDest</td>\n",
       "      <td>71.790542</td>\n",
       "    </tr>\n",
       "    <tr>\n",
       "      <th>5</th>\n",
       "      <td>newbalanceDest</td>\n",
       "      <td>83.263477</td>\n",
       "    </tr>\n",
       "    <tr>\n",
       "      <th>6</th>\n",
       "      <td>isFlaggedFraud</td>\n",
       "      <td>1.000569</td>\n",
       "    </tr>\n",
       "  </tbody>\n",
       "</table>\n",
       "</div>"
      ],
      "text/plain": [
       "          feature         VIF\n",
       "0            step    1.188500\n",
       "1          amount    4.013501\n",
       "2   oldbalanceOrg  465.124566\n",
       "3  newbalanceOrig  466.906067\n",
       "4  oldbalanceDest   71.790542\n",
       "5  newbalanceDest   83.263477\n",
       "6  isFlaggedFraud    1.000569"
      ]
     },
     "execution_count": 20,
     "metadata": {},
     "output_type": "execute_result"
    }
   ],
   "source": [
    "X_variables = df[['step','amount', 'oldbalanceOrg', 'newbalanceOrig','oldbalanceDest','newbalanceDest','isFlaggedFraud']]\n",
    "\n",
    "vif_data = pd.DataFrame()\n",
    "vif_data[\"feature\"] = X_variables.columns\n",
    "vif_data[\"VIF\"] = [variance_inflation_factor(X_variables.values, i) for i in range(len(X_variables.columns))]\n",
    "vif_data"
   ]
  },
  {
   "cell_type": "code",
   "execution_count": 21,
   "id": "949694e6",
   "metadata": {},
   "outputs": [],
   "source": [
    "# as vif for ['oldbalanceOrg','newbalanceOrig','oldbalanceDest',newbalanceDest] is high, hence we conclude that there is high\n",
    "# multi-collinearity among these variables\n",
    "# VIF > 10 --> indicates high multi-collinearity"
   ]
  },
  {
   "cell_type": "code",
   "execution_count": 22,
   "id": "4cf7894c",
   "metadata": {},
   "outputs": [
    {
     "data": {
      "text/plain": [
       "<AxesSubplot:>"
      ]
     },
     "execution_count": 22,
     "metadata": {},
     "output_type": "execute_result"
    },
    {
     "data": {
      "image/png": "[encoded data removed]",
      "text/plain": [
       "<Figure size 1296x648 with 2 Axes>"
      ]
     },
     "metadata": {
      "needs_background": "light"
     },
     "output_type": "display_data"
    }
   ],
   "source": [
    "plt.figure(figsize=(18,9))\n",
    "sns.heatmap(df.corr(),annot=True)"
   ]
  },
  {
   "cell_type": "code",
   "execution_count": 23,
   "id": "0901c1d2",
   "metadata": {},
   "outputs": [],
   "source": [
    "# Heatmap indicates presence of high multi-collinearity between :\n",
    "# 1) oldbalanceOrg and newbalanceOrig  \n",
    "# 2) oldbalanceDest and newbalanceDest"
   ]
  },
  {
   "cell_type": "markdown",
   "id": "a6886649",
   "metadata": {},
   "source": [
    "#### Identifying potential best numerical features"
   ]
  },
  {
   "cell_type": "code",
   "execution_count": 50,
   "id": "b88cede0",
   "metadata": {},
   "outputs": [
    {
     "name": "stdout",
     "output_type": "stream",
     "text": [
      "['step' 'amount' 'oldbalanceOrg' 'newbalanceOrig' 'oldbalanceDest'\n",
      " 'isFlaggedFraud']\n",
      "['step' 'amount' 'isFlaggedFraud']\n"
     ]
    }
   ],
   "source": [
    "dummy_data = df.copy()\n",
    "# dropping categorical features in dummmy data\n",
    "dummy_data = dummy_data.drop(['nameOrig', 'nameDest','type'], axis=1)\n",
    "\n",
    "X_dummy = dummy_data.drop(\"isFraud\",axis=1)\n",
    "y_dummy = dummy_data[\"isFraud\"]\n",
    "# selecting 6 best out of all numerical features\n",
    "fs = SelectKBest(score_func=f_classif, k=6)\n",
    "# apply feature selection\n",
    "X_selected = fs.fit_transform(X_dummy, y_dummy)\n",
    "\n",
    "cols = list(X_dummy.columns)\n",
    "cols_selected = fs.get_feature_names_out(input_features=cols)\n",
    "print(\"6 Best features\")\n",
    "print(cols_selected)\n",
    "\n",
    "\n",
    "fs = SelectKBest(score_func=f_classif, k=3)\n",
    "# apply feature selection\n",
    "X_selected = fs.fit_transform(X_dummy, y_dummy)\n",
    "\n",
    "cols = list(X_dummy.columns)\n",
    "cols_selected = fs.get_feature_names_out(input_features=cols)\n",
    "print(\"Top 3 Best features\")\n",
    "print(cols_selected)"
   ]
  },
  {
   "cell_type": "code",
   "execution_count": 25,
   "id": "093220ab",
   "metadata": {},
   "outputs": [],
   "source": [
    "# We observe that SelectKBest selects most appropriate columns which perfectly balance the tradeoff between \n",
    "# removing multicollinear data and keeping informative data"
   ]
  },
  {
   "cell_type": "code",
   "execution_count": 26,
   "id": "3aa7d8e9",
   "metadata": {},
   "outputs": [],
   "source": [
    "# HENCE : combining our knowledge from outlier detection, multi collinearity check & best feature identification\n",
    "# we will keep the 8 best columns that will be selected by SelectKBest after one hot encoding & scaling the data"
   ]
  },
  {
   "cell_type": "markdown",
   "id": "118a7a3b",
   "metadata": {},
   "source": [
    "## Data preprocessing"
   ]
  },
  {
   "cell_type": "code",
   "execution_count": 27,
   "id": "a279310e",
   "metadata": {},
   "outputs": [
    {
     "data": {
      "text/html": [
       "<div>\n",
       "<style scoped>\n",
       "    .dataframe tbody tr th:only-of-type {\n",
       "        vertical-align: middle;\n",
       "    }\n",
       "\n",
       "    .dataframe tbody tr th {\n",
       "        vertical-align: top;\n",
       "    }\n",
       "\n",
       "    .dataframe thead th {\n",
       "        text-align: right;\n",
       "    }\n",
       "</style>\n",
       "<table border=\"1\" class=\"dataframe\">\n",
       "  <thead>\n",
       "    <tr style=\"text-align: right;\">\n",
       "      <th></th>\n",
       "      <th>step</th>\n",
       "      <th>type</th>\n",
       "      <th>amount</th>\n",
       "      <th>nameOrig</th>\n",
       "      <th>oldbalanceOrg</th>\n",
       "      <th>newbalanceOrig</th>\n",
       "      <th>nameDest</th>\n",
       "      <th>oldbalanceDest</th>\n",
       "      <th>newbalanceDest</th>\n",
       "      <th>isFraud</th>\n",
       "      <th>isFlaggedFraud</th>\n",
       "    </tr>\n",
       "  </thead>\n",
       "  <tbody>\n",
       "    <tr>\n",
       "      <th>0</th>\n",
       "      <td>1</td>\n",
       "      <td>PAYMENT</td>\n",
       "      <td>9839.64</td>\n",
       "      <td>C1231006815</td>\n",
       "      <td>170136.0</td>\n",
       "      <td>160296.36</td>\n",
       "      <td>M1979787155</td>\n",
       "      <td>0.0</td>\n",
       "      <td>0.0</td>\n",
       "      <td>0</td>\n",
       "      <td>0</td>\n",
       "    </tr>\n",
       "    <tr>\n",
       "      <th>1</th>\n",
       "      <td>1</td>\n",
       "      <td>PAYMENT</td>\n",
       "      <td>1864.28</td>\n",
       "      <td>C1666544295</td>\n",
       "      <td>21249.0</td>\n",
       "      <td>19384.72</td>\n",
       "      <td>M2044282225</td>\n",
       "      <td>0.0</td>\n",
       "      <td>0.0</td>\n",
       "      <td>0</td>\n",
       "      <td>0</td>\n",
       "    </tr>\n",
       "    <tr>\n",
       "      <th>2</th>\n",
       "      <td>1</td>\n",
       "      <td>TRANSFER</td>\n",
       "      <td>181.00</td>\n",
       "      <td>C1305486145</td>\n",
       "      <td>181.0</td>\n",
       "      <td>0.00</td>\n",
       "      <td>C553264065</td>\n",
       "      <td>0.0</td>\n",
       "      <td>0.0</td>\n",
       "      <td>1</td>\n",
       "      <td>0</td>\n",
       "    </tr>\n",
       "    <tr>\n",
       "      <th>3</th>\n",
       "      <td>1</td>\n",
       "      <td>CASH_OUT</td>\n",
       "      <td>181.00</td>\n",
       "      <td>C840083671</td>\n",
       "      <td>181.0</td>\n",
       "      <td>0.00</td>\n",
       "      <td>C38997010</td>\n",
       "      <td>21182.0</td>\n",
       "      <td>0.0</td>\n",
       "      <td>1</td>\n",
       "      <td>0</td>\n",
       "    </tr>\n",
       "    <tr>\n",
       "      <th>4</th>\n",
       "      <td>1</td>\n",
       "      <td>PAYMENT</td>\n",
       "      <td>11668.14</td>\n",
       "      <td>C2048537720</td>\n",
       "      <td>41554.0</td>\n",
       "      <td>29885.86</td>\n",
       "      <td>M1230701703</td>\n",
       "      <td>0.0</td>\n",
       "      <td>0.0</td>\n",
       "      <td>0</td>\n",
       "      <td>0</td>\n",
       "    </tr>\n",
       "  </tbody>\n",
       "</table>\n",
       "</div>"
      ],
      "text/plain": [
       "   step      type    amount     nameOrig  oldbalanceOrg  newbalanceOrig  \\\n",
       "0     1   PAYMENT   9839.64  C1231006815       170136.0       160296.36   \n",
       "1     1   PAYMENT   1864.28  C1666544295        21249.0        19384.72   \n",
       "2     1  TRANSFER    181.00  C1305486145          181.0            0.00   \n",
       "3     1  CASH_OUT    181.00   C840083671          181.0            0.00   \n",
       "4     1   PAYMENT  11668.14  C2048537720        41554.0        29885.86   \n",
       "\n",
       "      nameDest  oldbalanceDest  newbalanceDest  isFraud  isFlaggedFraud  \n",
       "0  M1979787155             0.0             0.0        0               0  \n",
       "1  M2044282225             0.0             0.0        0               0  \n",
       "2   C553264065             0.0             0.0        1               0  \n",
       "3    C38997010         21182.0             0.0        1               0  \n",
       "4  M1230701703             0.0             0.0        0               0  "
      ]
     },
     "execution_count": 27,
     "metadata": {},
     "output_type": "execute_result"
    }
   ],
   "source": [
    "# making a copy of data frame for safeguarding info\n",
    "df_copy = df.copy()\n",
    "df_copy.head()"
   ]
  },
  {
   "cell_type": "code",
   "execution_count": 28,
   "id": "a3a94f01",
   "metadata": {},
   "outputs": [
    {
     "data": {
      "text/html": [
       "<div>\n",
       "<style scoped>\n",
       "    .dataframe tbody tr th:only-of-type {\n",
       "        vertical-align: middle;\n",
       "    }\n",
       "\n",
       "    .dataframe tbody tr th {\n",
       "        vertical-align: top;\n",
       "    }\n",
       "\n",
       "    .dataframe thead th {\n",
       "        text-align: right;\n",
       "    }\n",
       "</style>\n",
       "<table border=\"1\" class=\"dataframe\">\n",
       "  <thead>\n",
       "    <tr style=\"text-align: right;\">\n",
       "      <th></th>\n",
       "      <th>step</th>\n",
       "      <th>type</th>\n",
       "      <th>amount</th>\n",
       "      <th>nameOrig</th>\n",
       "      <th>oldbalanceOrg</th>\n",
       "      <th>newbalanceOrig</th>\n",
       "      <th>nameDest</th>\n",
       "      <th>oldbalanceDest</th>\n",
       "      <th>newbalanceDest</th>\n",
       "      <th>isFraud</th>\n",
       "      <th>isFlaggedFraud</th>\n",
       "    </tr>\n",
       "  </thead>\n",
       "  <tbody>\n",
       "    <tr>\n",
       "      <th>0</th>\n",
       "      <td>1</td>\n",
       "      <td>PAYMENT</td>\n",
       "      <td>9839.64</td>\n",
       "      <td>C1231006815</td>\n",
       "      <td>170136.0</td>\n",
       "      <td>160296.36</td>\n",
       "      <td>M1979787155</td>\n",
       "      <td>0.0</td>\n",
       "      <td>0.0</td>\n",
       "      <td>0</td>\n",
       "      <td>0</td>\n",
       "    </tr>\n",
       "    <tr>\n",
       "      <th>1</th>\n",
       "      <td>1</td>\n",
       "      <td>PAYMENT</td>\n",
       "      <td>1864.28</td>\n",
       "      <td>C1666544295</td>\n",
       "      <td>21249.0</td>\n",
       "      <td>19384.72</td>\n",
       "      <td>M2044282225</td>\n",
       "      <td>0.0</td>\n",
       "      <td>0.0</td>\n",
       "      <td>0</td>\n",
       "      <td>0</td>\n",
       "    </tr>\n",
       "    <tr>\n",
       "      <th>2</th>\n",
       "      <td>1</td>\n",
       "      <td>TRANSFER</td>\n",
       "      <td>181.00</td>\n",
       "      <td>C1305486145</td>\n",
       "      <td>181.0</td>\n",
       "      <td>0.00</td>\n",
       "      <td>C553264065</td>\n",
       "      <td>0.0</td>\n",
       "      <td>0.0</td>\n",
       "      <td>1</td>\n",
       "      <td>0</td>\n",
       "    </tr>\n",
       "    <tr>\n",
       "      <th>3</th>\n",
       "      <td>1</td>\n",
       "      <td>CASH_OUT</td>\n",
       "      <td>181.00</td>\n",
       "      <td>C840083671</td>\n",
       "      <td>181.0</td>\n",
       "      <td>0.00</td>\n",
       "      <td>C38997010</td>\n",
       "      <td>21182.0</td>\n",
       "      <td>0.0</td>\n",
       "      <td>1</td>\n",
       "      <td>0</td>\n",
       "    </tr>\n",
       "    <tr>\n",
       "      <th>4</th>\n",
       "      <td>1</td>\n",
       "      <td>PAYMENT</td>\n",
       "      <td>11668.14</td>\n",
       "      <td>C2048537720</td>\n",
       "      <td>41554.0</td>\n",
       "      <td>29885.86</td>\n",
       "      <td>M1230701703</td>\n",
       "      <td>0.0</td>\n",
       "      <td>0.0</td>\n",
       "      <td>0</td>\n",
       "      <td>0</td>\n",
       "    </tr>\n",
       "  </tbody>\n",
       "</table>\n",
       "</div>"
      ],
      "text/plain": [
       "   step      type    amount     nameOrig  oldbalanceOrg  newbalanceOrig  \\\n",
       "0     1   PAYMENT   9839.64  C1231006815       170136.0       160296.36   \n",
       "1     1   PAYMENT   1864.28  C1666544295        21249.0        19384.72   \n",
       "2     1  TRANSFER    181.00  C1305486145          181.0            0.00   \n",
       "3     1  CASH_OUT    181.00   C840083671          181.0            0.00   \n",
       "4     1   PAYMENT  11668.14  C2048537720        41554.0        29885.86   \n",
       "\n",
       "      nameDest  oldbalanceDest  newbalanceDest  isFraud  isFlaggedFraud  \n",
       "0  M1979787155             0.0             0.0        0               0  \n",
       "1  M2044282225             0.0             0.0        0               0  \n",
       "2   C553264065             0.0             0.0        1               0  \n",
       "3    C38997010         21182.0             0.0        1               0  \n",
       "4  M1230701703             0.0             0.0        0               0  "
      ]
     },
     "execution_count": 28,
     "metadata": {},
     "output_type": "execute_result"
    }
   ],
   "source": [
    "df.head()"
   ]
  },
  {
   "cell_type": "code",
   "execution_count": 29,
   "id": "1b2c9e7b",
   "metadata": {},
   "outputs": [],
   "source": [
    "# Creating a function that returns split data along with best selected columns\n",
    "def data_preprocessor(data):\n",
    "    data = data.drop([\"nameOrig\",\"nameDest\"],axis=1)\n",
    "    data = pd.get_dummies(data,columns=['type'], drop_first=True)\n",
    "#     print(data.head())\n",
    "    X = data.drop(\"isFraud\",axis=1)\n",
    "    y = data[\"isFraud\"]\n",
    "    \n",
    "    oversample = RandomOverSampler(sampling_strategy=0.1)\n",
    "    X, y = oversample.fit_resample(X, y)\n",
    "    undersample = RandomUnderSampler(sampling_strategy=0.5)\n",
    "    X, y = undersample.fit_resample(X, y)\n",
    "    \n",
    "    X_train,X_test,y_train,y_test = train_test_split(X,y,test_size=0.2,random_state=123)\n",
    "    \n",
    "    scaler = preprocessing.RobustScaler()\n",
    "    X_train = scaler.fit_transform(X_train)\n",
    "    X_test = scaler.transform(X_test)\n",
    "    \n",
    "    fs = SelectKBest(score_func=f_classif, k=8)\n",
    "    X_train = fs.fit_transform(X_train, y_train)\n",
    "    X_test = fs.transform(X_test)\n",
    "    \n",
    "    cols = list(X.columns)\n",
    "    cols_selected = fs.get_feature_names_out(input_features=cols)\n",
    "    \n",
    "    return X_train,X_test,y_train,y_test,cols_selected"
   ]
  },
  {
   "cell_type": "code",
   "execution_count": 30,
   "id": "7e186862",
   "metadata": {},
   "outputs": [],
   "source": [
    "X_train,X_test,y_train,y_test,cols_selected = data_preprocessor(df)"
   ]
  },
  {
   "cell_type": "code",
   "execution_count": 31,
   "id": "22ddf6ad",
   "metadata": {},
   "outputs": [
    {
     "name": "stdout",
     "output_type": "stream",
     "text": [
      "List of selected columns :  ['step' 'amount' 'oldbalanceOrg' 'newbalanceOrig' 'oldbalanceDest'\n",
      " 'type_CASH_OUT' 'type_PAYMENT' 'type_TRANSFER']\n"
     ]
    }
   ],
   "source": [
    "print(\"List of selected columns : \",cols_selected)"
   ]
  },
  {
   "cell_type": "code",
   "execution_count": 32,
   "id": "80581132",
   "metadata": {},
   "outputs": [
    {
     "name": "stdout",
     "output_type": "stream",
     "text": [
      "(1525056, 8)\n",
      "(381264, 8)\n",
      "(1525056,)\n",
      "(381264,)\n"
     ]
    }
   ],
   "source": [
    "print(X_train.shape)\n",
    "print(X_test.shape)\n",
    "print(y_train.shape)\n",
    "print(y_test.shape)"
   ]
  },
  {
   "cell_type": "code",
   "execution_count": 33,
   "id": "e12d398d",
   "metadata": {},
   "outputs": [
    {
     "name": "stdout",
     "output_type": "stream",
     "text": [
      "[[-6.78733032e-02  1.47831569e+00  2.80403694e+01  6.01094765e+02\n",
      "   2.06819324e+00  0.00000000e+00  0.00000000e+00  0.00000000e+00]\n",
      " [-6.15384615e-01 -1.68885535e-01 -2.44702771e-02  4.94068643e+00\n",
      "   0.00000000e+00  0.00000000e+00  0.00000000e+00  0.00000000e+00]]\n"
     ]
    }
   ],
   "source": [
    "print(X_train[:2])"
   ]
  },
  {
   "cell_type": "code",
   "execution_count": 34,
   "id": "97da15f4",
   "metadata": {},
   "outputs": [
    {
     "name": "stdout",
     "output_type": "stream",
     "text": [
      "3264321    0\n",
      "1098945    0\n",
      "Name: isFraud, dtype: int64\n"
     ]
    }
   ],
   "source": [
    "print(y_train[:2])"
   ]
  },
  {
   "cell_type": "markdown",
   "id": "be155b1f",
   "metadata": {},
   "source": [
    "## Model Building"
   ]
  },
  {
   "cell_type": "code",
   "execution_count": null,
   "id": "45e39187",
   "metadata": {},
   "outputs": [],
   "source": [
    "# Creating 5 classification models as follows below of different algorithms & implement the one that gives maximum accuracy"
   ]
  },
  {
   "cell_type": "markdown",
   "id": "a0fb22e0",
   "metadata": {},
   "source": [
    "#### Model 1"
   ]
  },
  {
   "cell_type": "code",
   "execution_count": 36,
   "id": "6206e9ca",
   "metadata": {},
   "outputs": [],
   "source": [
    "log_reg = LogisticRegression()\n",
    "log_reg.fit(X_train,y_train)\n",
    "log_reg_pred = log_reg.predict(X_test)"
   ]
  },
  {
   "cell_type": "markdown",
   "id": "75489100",
   "metadata": {},
   "source": [
    "#### Model 2"
   ]
  },
  {
   "cell_type": "code",
   "execution_count": 37,
   "id": "01ef8567",
   "metadata": {},
   "outputs": [],
   "source": [
    "knn =  KNeighborsClassifier()\n",
    "knn.fit(X_train, y_train)\n",
    "knn_pred = knn.predict(X_test)"
   ]
  },
  {
   "cell_type": "markdown",
   "id": "3960383b",
   "metadata": {},
   "source": [
    "#### Model 3"
   ]
  },
  {
   "cell_type": "code",
   "execution_count": 38,
   "id": "8b7dd85d",
   "metadata": {},
   "outputs": [],
   "source": [
    "rfc = RandomForestClassifier()\n",
    "rfc.fit(X_train, y_train)\n",
    "rfc_pred = rfc.predict(X_test)"
   ]
  },
  {
   "cell_type": "markdown",
   "id": "6dcd24f5",
   "metadata": {},
   "source": [
    "#### Model 4"
   ]
  },
  {
   "cell_type": "code",
   "execution_count": 39,
   "id": "989f5146",
   "metadata": {},
   "outputs": [],
   "source": [
    "xgb = xgboost.XGBClassifier()\n",
    "xgb.fit(X_train, y_train)\n",
    "xgb_pred = xgb.predict(X_test)"
   ]
  },
  {
   "cell_type": "markdown",
   "id": "d5abd30c",
   "metadata": {},
   "source": [
    "#### Model 5"
   ]
  },
  {
   "cell_type": "code",
   "execution_count": 40,
   "id": "1ce3167a",
   "metadata": {},
   "outputs": [],
   "source": [
    "dtc =  DecisionTreeClassifier()\n",
    "dtc.fit(X_train, y_train)\n",
    "dtc_pred = dtc.predict(X_test)"
   ]
  },
  {
   "cell_type": "markdown",
   "id": "f63d70ec",
   "metadata": {},
   "source": [
    "## Model Evaluation"
   ]
  },
  {
   "cell_type": "code",
   "execution_count": 41,
   "id": "0cffc148",
   "metadata": {},
   "outputs": [],
   "source": [
    "def show_accuracy(y_true,y_pred):\n",
    "    print(\"Accurate Predictions : \",accuracy_score(y_true,y_pred, normalize=False),\"/\",len(y_test))\n",
    "    print(\"Accuracy Score : \",round(accuracy_score(y_true,y_pred),2))\n",
    "    print(\"Confusion matrix : \")\n",
    "    print(confusion_matrix(y_true,y_pred))\n",
    "    print(\"Precision Score : \",round(precision_score(y_true, y_pred),2))\n",
    "    print(\"Recall Score : \",round(recall_score(y_true, y_pred),2))\n",
    "    print(\"F1 Score : \",round(f1_score(y_true, y_pred),2))"
   ]
  },
  {
   "cell_type": "code",
   "execution_count": 42,
   "id": "8685b5d5",
   "metadata": {},
   "outputs": [
    {
     "name": "stdout",
     "output_type": "stream",
     "text": [
      "Total No. of Not Fraud transactions :  127314\n",
      "Total No. of Not Fraud transactions :  253950\n",
      "Total  transactions :  381264\n"
     ]
    }
   ],
   "source": [
    "count_0 = 0\n",
    "count_1 = 0\n",
    "for i in y_test :\n",
    "    if i==1:\n",
    "        count_0+=1 \n",
    "    elif i==0:\n",
    "        count_1+=1 \n",
    "print(\"Total No. of Not Fraud transactions in test data: \",count_0)\n",
    "print(\"Total No. of Not Fraud transactions in test data:: \",count_1)\n",
    "print(\"Total  transactions in test data:: \",count_0+count_1)"
   ]
  },
  {
   "cell_type": "code",
   "execution_count": 43,
   "id": "188a9f79",
   "metadata": {},
   "outputs": [
    {
     "name": "stdout",
     "output_type": "stream",
     "text": [
      "----------------------LogisticRegression()----------------------\n",
      "Accurate Predictions :  360491 / 381264\n",
      "Accuracy Score :  0.95\n",
      "Confusion matrix : \n",
      "[[246292   7658]\n",
      " [ 13115 114199]]\n",
      "Precision Score :  0.94\n",
      "Recall Score :  0.9\n",
      "F1 Score :  0.92\n"
     ]
    }
   ],
   "source": [
    "print(\"----------------------LogisticRegression()----------------------\")\n",
    "show_accuracy(y_test,log_reg_pred)"
   ]
  },
  {
   "cell_type": "code",
   "execution_count": 44,
   "id": "c28c7d63",
   "metadata": {},
   "outputs": [
    {
     "name": "stdout",
     "output_type": "stream",
     "text": [
      "----------------------KNeighborsClassifier()----------------------\n",
      "Accurate Predictions :  380574 / 381264\n",
      "Accuracy Score :  1.0\n",
      "Confusion matrix : \n",
      "[[253260    690]\n",
      " [     0 127314]]\n",
      "Precision Score :  0.99\n",
      "Recall Score :  1.0\n",
      "F1 Score :  1.0\n"
     ]
    }
   ],
   "source": [
    "print(\"----------------------KNeighborsClassifier()----------------------\")\n",
    "show_accuracy(y_test,knn_pred)"
   ]
  },
  {
   "cell_type": "code",
   "execution_count": 45,
   "id": "0a73de65",
   "metadata": {},
   "outputs": [
    {
     "name": "stdout",
     "output_type": "stream",
     "text": [
      "----------------------RandomForestClassifier()----------------------\n",
      "Accurate Predictions :  381165 / 381264\n",
      "Accuracy Score :  1.0\n",
      "Confusion matrix : \n",
      "[[253851     99]\n",
      " [     0 127314]]\n",
      "Precision Score :  1.0\n",
      "Recall Score :  1.0\n",
      "F1 Score :  1.0\n"
     ]
    }
   ],
   "source": [
    "print(\"----------------------RandomForestClassifier()----------------------\")\n",
    "show_accuracy(y_test,rfc_pred)"
   ]
  },
  {
   "cell_type": "code",
   "execution_count": 46,
   "id": "cca60ecb",
   "metadata": {},
   "outputs": [
    {
     "name": "stdout",
     "output_type": "stream",
     "text": [
      "----------------------XGBClassifier()----------------------\n",
      "Accurate Predictions :  380966 / 381264\n",
      "Accuracy Score :  1.0\n",
      "Confusion matrix : \n",
      "[[253652    298]\n",
      " [     0 127314]]\n",
      "Precision Score :  1.0\n",
      "Recall Score :  1.0\n",
      "F1 Score :  1.0\n"
     ]
    }
   ],
   "source": [
    "print(\"----------------------XGBClassifier()----------------------\")\n",
    "show_accuracy(y_test,xgb_pred)"
   ]
  },
  {
   "cell_type": "code",
   "execution_count": 47,
   "id": "2d0f19d4",
   "metadata": {},
   "outputs": [
    {
     "name": "stdout",
     "output_type": "stream",
     "text": [
      "----------------------DecisionTreeClassifier()----------------------\n",
      "Accurate Predictions :  381132 / 381264\n",
      "Accuracy Score :  1.0\n",
      "Confusion matrix : \n",
      "[[253818    132]\n",
      " [     0 127314]]\n",
      "Precision Score :  1.0\n",
      "Recall Score :  1.0\n",
      "F1 Score :  1.0\n"
     ]
    }
   ],
   "source": [
    "print(\"----------------------DecisionTreeClassifier()----------------------\")\n",
    "show_accuracy(y_test,dtc_pred)"
   ]
  },
  {
   "cell_type": "markdown",
   "id": "e8fea506",
   "metadata": {},
   "source": [
    "## Hence by comparing each model's performance we can conclude that RandomForestClassifier() gives the highest accuracy"
   ]
  },
  {
   "cell_type": "markdown",
   "id": "0889cfbd",
   "metadata": {},
   "source": [
    "# > Key Questions and Answers"
   ]
  },
  {
   "cell_type": "markdown",
   "id": "b6e58c0a",
   "metadata": {},
   "source": [
    "### 1. Data cleaning including missing values, outliers and multi-collinearity.\n",
    "Data contained no missing values, lots of outlier data and multi collinear features. \n",
    "Outliers were handled by the use of Robust scaler that is not sensitive to outliers and scales them down without any information loss"
   ]
  },
  {
   "cell_type": "markdown",
   "id": "58da3119",
   "metadata": {},
   "source": [
    "### 2. Describe your fraud detection model in elaboration. \n",
    "Model takes in all input values, data preprocessing is needed for input data after which only those columns that we have used for model training and evaluation are kept rest all are discarded."
   ]
  },
  {
   "cell_type": "markdown",
   "id": "45332004",
   "metadata": {},
   "source": [
    "### 3. How did you select variables to be included in the model?\n",
    "I have selected features by using an sklearn library SelectKBest which selects features according to the k highest scores.\n",
    "It selects most appropriate columns which perfectly balance the tradeoff between removing multicollinear data and keeping informative data."
   ]
  },
  {
   "cell_type": "markdown",
   "id": "8048c495",
   "metadata": {},
   "source": [
    "### 4. Demonstrate the performance of the model by using best set of tools. \n",
    "Model Evaluation provides a summary of best classification metrics as follows :\n",
    "1) Accurate predictions / Total predictions  \n",
    "2) Accuracy score  \n",
    "3) Confusion matrix  \n",
    "4) Precision  \n",
    "5) Recall  \n",
    "6) F1 score"
   ]
  },
  {
   "cell_type": "markdown",
   "id": "255efba2",
   "metadata": {},
   "source": [
    "### 5. What are the key factors that predict fraudulent customer? \n",
    "Following features are strong indicators of fraud transactions :\n",
    "1) Step  \n",
    "2) Amount  \n",
    "3) isFlaggedFraud  \n",
    "\n",
    "Apart from these, data suggests that only {'CASH_OUT', 'TRANSFER'} type of transactions can be fraudulent."
   ]
  },
  {
   "cell_type": "markdown",
   "id": "f9651bb0",
   "metadata": {},
   "source": [
    "### 6. Do these factors make sense? If yes, How? If not, How not? \n",
    "These factors make complete sense. Each of as explained below :\n",
    "1) Step  -> Time at which a fraudster is active can be repetative pattern observed by the data  \n",
    "\n",
    "2) Amount  -> Target amount set by a fraudster should be in a particular range which justifies his motive to target specific accounts  \n",
    "\n",
    "3) isFlaggedFraud  ->  Fishy patterns observed in the data by clerks entering the data of a transaction serve as a strong support to the argument of classifying fraudulent or non fraudulent transactions.\n",
    "\n",
    "{'CASH_OUT', 'TRANSFER'} -> Unlike in Debit and Payment transactions, fraudsters can fraud a person by sending them faulty links which are made to commit the fraud attacks. Furthermore a fraud cashout transaction can be a one in which fraudster manages to use cheques to withdraw money in the name of the account owner."
   ]
  },
  {
   "cell_type": "markdown",
   "id": "d0118638",
   "metadata": {},
   "source": [
    "### 7. What kind of prevention should be adopted while company update its infrastructure?\n",
    "A few measures that i would suggest are as follows :\n",
    "1) Data Encryption : Companies must encrypt their data so that no 3rd party in no hidden ways can access the data. If a fraudster has access to a persons account number and his bank balance, He would target those accounts to retrieve hefty amounts.\n",
    "\n",
    "2) Multi Factor Authentication : Wherein only authorized users are given permissions to access the data and make changes to it with different levels of authority having different set of permission rules.\n",
    "\n",
    "3) Fraud Prediction Algorithms : Machine Learning models, like the one built above must be deployed to predict fraud transactions that can alert us in advance and prevent mishap."
   ]
  },
  {
   "cell_type": "markdown",
   "id": "04dc5468",
   "metadata": {},
   "source": [
    "### 8. Assuming these actions have been implemented, how would you determine if they work?\n",
    "To verify that above methods are effective, following can be done : \n",
    "\n",
    "1), 2) -> The effectiveness can be checked by hiring white hat hackers to try and find bugs and loopholes in existing system. Conducting routine Security audits & Penetration Tests would minimise chances of fraudulent transactions.\n",
    "\n",
    "3) -> Deployed algorithms should be updated with newer data & its performance must be judged as efficient or updated if it needs any improvement"
   ]
  },
  {
   "cell_type": "code",
   "execution_count": null,
   "id": "34371618",
   "metadata": {},
   "outputs": [],
   "source": []
  }
 ],
 "metadata": {
  "kernelspec": {
   "display_name": "Python 3 (ipykernel)",
   "language": "python",
   "name": "python3"
  },
  "language_info": {
   "codemirror_mode": {
    "name": "ipython",
    "version": 3
   },
   "file_extension": ".py",
   "mimetype": "text/x-python",
   "name": "python",
   "nbconvert_exporter": "python",
   "pygments_lexer": "ipython3",
   "version": "3.9.7"
  }
 },
 "nbformat": 4,
 "nbformat_minor": 5
}
